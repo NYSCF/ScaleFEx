{
 "cells": [
  {
   "cell_type": "markdown",
   "metadata": {},
   "source": [
    "# Site-Level feature extraction success tracking\n",
    "Our pipeline saves a file \"<experiment_name>_fields-computed.csv\" which tracks cell (by id) that are:\n",
    "1. successfully computed\n",
    "2. skipped (usually because they're on the edge of the image)\n",
    "3. unsuccessfully computed\n",
    "\n",
    "Because ScaleFEx relies on binary masks of individual channels to compute its features, issues with individual channels might cause computation to fail on a particular cell.\n",
    "Low numbers in the \"fail_count\" column are expected to datasets; if there are high numbers, it might be indicative of either a data or parameter issue."
   ]
  },
  {
   "cell_type": "code",
   "execution_count": 10,
   "metadata": {},
   "outputs": [],
   "source": [
    "import pandas as pd\n",
    "import numpy as np\n",
    "import matplotlib.pyplot as plt"
   ]
  },
  {
   "cell_type": "markdown",
   "metadata": {},
   "source": [
    "#### Check that failed computation count is low!"
   ]
  },
  {
   "cell_type": "code",
   "execution_count": 15,
   "metadata": {},
   "outputs": [
    {
     "data": {
      "text/html": [
       "<div>\n",
       "<style scoped>\n",
       "    .dataframe tbody tr th:only-of-type {\n",
       "        vertical-align: middle;\n",
       "    }\n",
       "\n",
       "    .dataframe tbody tr th {\n",
       "        vertical-align: top;\n",
       "    }\n",
       "\n",
       "    .dataframe thead th {\n",
       "        text-align: right;\n",
       "    }\n",
       "</style>\n",
       "<table border=\"1\" class=\"dataframe\">\n",
       "  <thead>\n",
       "    <tr style=\"text-align: right;\">\n",
       "      <th></th>\n",
       "      <th>plate</th>\n",
       "      <th>well</th>\n",
       "      <th>site</th>\n",
       "      <th>file_path</th>\n",
       "      <th>cell_count</th>\n",
       "      <th>fail_count</th>\n",
       "      <th>computed_ids</th>\n",
       "      <th>skipped_ids</th>\n",
       "      <th>fail_pct</th>\n",
       "    </tr>\n",
       "  </thead>\n",
       "  <tbody>\n",
       "  </tbody>\n",
       "</table>\n",
       "</div>"
      ],
      "text/plain": [
       "Empty DataFrame\n",
       "Columns: [plate, well, site, file_path, cell_count, fail_count, computed_ids, skipped_ids, fail_pct]\n",
       "Index: []"
      ]
     },
     "execution_count": 15,
     "metadata": {},
     "output_type": "execute_result"
    }
   ],
   "source": [
    "# read in site-level file\n",
    "site_computation = pd.read_csv('sample_data/output/Dataset01_fields-computed.csv')\n",
    "\n",
    "# get percentage of cells failing per site\n",
    "site_computation['fail_pct'] = site_computation['fail_count']/site_computation['cell_count']*100\n",
    "\n",
    "# check if sites with high percentage of failing cells\n",
    "site_computation[site_computation['fail_pct']>20]"
   ]
  }
 ],
 "metadata": {
  "kernelspec": {
   "display_name": "ScaleFEx",
   "language": "python",
   "name": "python3"
  },
  "language_info": {
   "codemirror_mode": {
    "name": "ipython",
    "version": 3
   },
   "file_extension": ".py",
   "mimetype": "text/x-python",
   "name": "python",
   "nbconvert_exporter": "python",
   "pygments_lexer": "ipython3",
   "version": "3.10.14"
  }
 },
 "nbformat": 4,
 "nbformat_minor": 2
}
