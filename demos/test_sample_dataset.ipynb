{
 "cells": [
  {
   "cell_type": "code",
   "execution_count": 2,
   "metadata": {},
   "outputs": [
    {
     "name": "stdout",
     "output_type": "stream",
     "text": [
      "/Users/bianca/Documents/PythonCodes/GitHubRepos/ScaleFEx\n",
      "Checking parameters in parameters.yaml...\n",
      "All parameters are valid!\n",
      "retrieving files from  /Volumes/HighContentImaging/INAD/HTS0020/\n",
      "1 plate(s) found!\n",
      "finding files matching pattern: /Volumes/HighContentImaging/INAD/HTS0020/HTS0020_CV384W_101__2022-08-16T23_04_21-Measurement 6/*f*p*-*.tiff\n",
      "Computing plates:  []\n"
     ]
    }
   ],
   "source": [
    "import os\n",
    "import sys\n",
    "# Moving working directory to project root...\n",
    "ROOT_DIR = '..' if os.getcwd().split('/')[-1] == 'demos' else os.getcwd()\n",
    "%cd {ROOT_DIR}\n",
    "\n",
    "import scalefex_main\n",
    "pipeline=scalefex_main.Process_HighContentImaging_screen()\n",
    "pipeline.run()"
   ]
  },
  {
   "cell_type": "code",
   "execution_count": null,
   "metadata": {},
   "outputs": [],
   "source": []
  }
 ],
 "metadata": {
  "kernelspec": {
   "display_name": "bianca-general",
   "language": "python",
   "name": "python3"
  },
  "language_info": {
   "codemirror_mode": {
    "name": "ipython",
    "version": 3
   },
   "file_extension": ".py",
   "mimetype": "text/x-python",
   "name": "python",
   "nbconvert_exporter": "python",
   "pygments_lexer": "ipython3",
   "version": "3.12.4"
  }
 },
 "nbformat": 4,
 "nbformat_minor": 2
}
